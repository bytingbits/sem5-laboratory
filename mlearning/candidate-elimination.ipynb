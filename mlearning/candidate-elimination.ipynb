{
 "cells": [
  {
   "cell_type": "code",
   "execution_count": 1,
   "id": "216a96cf",
   "metadata": {
    "execution": {
     "iopub.execute_input": "2023-03-28T04:22:29.534570Z",
     "iopub.status.busy": "2023-03-28T04:22:29.534011Z",
     "iopub.status.idle": "2023-03-28T04:22:29.572089Z",
     "shell.execute_reply": "2023-03-28T04:22:29.570476Z"
    },
    "papermill": {
     "duration": 0.047361,
     "end_time": "2023-03-28T04:22:29.576231",
     "exception": false,
     "start_time": "2023-03-28T04:22:29.528870",
     "status": "completed"
    },
    "tags": []
   },
   "outputs": [
    {
     "name": "stdout",
     "output_type": "stream",
     "text": [
      "    no  brown     marble  middle  hieroglyphics  Y\n",
      "0   no  white  sandstone     old           none  N\n",
      "1   no  white     marble     new  hieroglyphics  Y\n",
      "2  yes   grey      slate  middle  hieroglyphics  N\n",
      "3   no  brown    granite  middle  hieroglyphics  Y\n"
     ]
    }
   ],
   "source": [
    "import numpy as np\n",
    "import pandas as pd\n",
    "data=pd.read_csv('spot.csv')\n",
    "data=pd.DataFrame(data)\n",
    "\n",
    "print(data)"
   ]
  },
  {
   "cell_type": "code",
   "execution_count": 2,
   "id": "d5bd0e4d",
   "metadata": {
    "execution": {
     "iopub.execute_input": "2023-03-28T04:22:29.583400Z",
     "iopub.status.busy": "2023-03-28T04:22:29.583009Z",
     "iopub.status.idle": "2023-03-28T04:22:29.590108Z",
     "shell.execute_reply": "2023-03-28T04:22:29.588744Z"
    },
    "papermill": {
     "duration": 0.014086,
     "end_time": "2023-03-28T04:22:29.593392",
     "exception": false,
     "start_time": "2023-03-28T04:22:29.579306",
     "status": "completed"
    },
    "tags": []
   },
   "outputs": [
    {
     "name": "stdout",
     "output_type": "stream",
     "text": [
      "['N' 'Y' 'N' 'Y']\n",
      "[['no' 'white' 'sandstone' 'old' 'none']\n",
      " ['no' 'white' 'marble' 'new' 'hieroglyphics']\n",
      " ['yes' 'grey' 'slate' 'middle' 'hieroglyphics']\n",
      " ['no' 'brown' 'granite' 'middle' 'hieroglyphics']]\n"
     ]
    }
   ],
   "source": [
    "concepts = np.array(data.iloc[:,0:-1])\n",
    "\n",
    "target = np.array(data.iloc[:,-1])\n",
    "\n",
    "print(target)\n",
    "\n",
    "print(concepts)"
   ]
  },
  {
   "cell_type": "code",
   "execution_count": 4,
   "id": "831e2812",
   "metadata": {
    "execution": {
     "iopub.execute_input": "2023-03-28T04:22:29.599472Z",
     "iopub.status.busy": "2023-03-28T04:22:29.599097Z",
     "iopub.status.idle": "2023-03-28T04:22:29.613090Z",
     "shell.execute_reply": "2023-03-28T04:22:29.611707Z"
    },
    "papermill": {
     "duration": 0.021993,
     "end_time": "2023-03-28T04:22:29.617507",
     "exception": false,
     "start_time": "2023-03-28T04:22:29.595514",
     "status": "completed"
    },
    "tags": []
   },
   "outputs": [
    {
     "name": "stdout",
     "output_type": "stream",
     "text": [
      "Initialization of specific_h and general_h\n",
      "specific_h:  ['no' 'white' 'sandstone' 'old' 'none']\n",
      "general_h:  [['?', '?', '?', '?', '?'], ['?', '?', '?', '?', '?'], ['?', '?', '?', '?', '?'], ['?', '?', '?', '?', '?'], ['?', '?', '?', '?', '?']]\n",
      "concepts:  [['no' 'white' 'sandstone' 'old' 'none']\n",
      " ['no' 'white' 'marble' 'new' 'hieroglyphics']\n",
      " ['yes' 'grey' 'slate' 'middle' 'hieroglyphics']\n",
      " ['no' 'brown' 'granite' 'middle' 'hieroglyphics']]\n",
      "\n",
      "Steps of Candidate Elimination Algorithm:  4\n",
      "Specific_h:  4\n",
      "['no' '?' '?' '?' '?'] \n",
      "\n",
      "general_h : 4\n",
      "[['no', '?', '?', '?', '?'], ['?', '?', '?', '?', '?'], ['?', '?', '?', '?', '?'], ['?', '?', '?', '?', '?'], ['?', '?', '?', '?', '?']]\n",
      "\n",
      "Indices []\n",
      "\n",
      "Final Specific_h:\n",
      "['no' '?' '?' '?' '?']\n",
      "Final General_h:\n",
      "[['no', '?', '?', '?', '?'], ['?', '?', '?', '?', '?'], ['?', '?', '?', '?', '?'], ['?', '?', '?', '?', '?'], ['?', '?', '?', '?', '?']]\n"
     ]
    }
   ],
   "source": [
    "\n",
    "def learn(concepts, target):\n",
    "\n",
    "    specific_h = concepts[0].copy()\n",
    "\n",
    "    print(\"Initialization of specific_h and general_h\")\n",
    "\n",
    "    print(\"specific_h: \",specific_h)\n",
    "\n",
    "    general_h = [[\"?\" for i in range(len(specific_h))] for i in range(len(specific_h))]\n",
    "\n",
    "    print(\"general_h: \",general_h)\n",
    "\n",
    "    print(\"concepts: \",concepts)\n",
    "\n",
    "    for i, h in enumerate(concepts):\n",
    "\n",
    "        if target[i] == \"Y\":\n",
    "\n",
    "            for x in range(len(specific_h)):\n",
    "\n",
    "                #print(\"h[x]\",h[x])\n",
    "\n",
    "                if h[x] != specific_h[x]:\n",
    "\n",
    "                    specific_h[x] = '?'\n",
    "\n",
    "                    general_h[x][x] = '?'\n",
    "\n",
    "        if target[i] == \"N\":\n",
    "\n",
    "            for x in range(len(specific_h)):\n",
    "\n",
    "                if h[x] != specific_h[x]:\n",
    "\n",
    "                    general_h[x][x] = specific_h[x]\n",
    "\n",
    "                else:\n",
    "\n",
    "                    general_h[x][x] = '?'\n",
    "\n",
    "    print(\"\\nSteps of Candidate Elimination Algorithm: \",i+1)\n",
    "\n",
    "    print(\"Specific_h: \",i+1)\n",
    "\n",
    "    print(specific_h,\"\\n\")\n",
    "\n",
    "    print(\"general_h :\", i+1)\n",
    "\n",
    "    print(general_h)\n",
    "\n",
    "    indices = [i for i, val in enumerate(general_h) if val == ['?', '?', '?', '?', '?', '?']]\n",
    "\n",
    "    print(\"\\nIndices\",indices)\n",
    "\n",
    "    for i in indices:\n",
    "\n",
    "        general_h.remove(['?', '?', '?', '?', '?', '?'])\n",
    "\n",
    "    return specific_h, general_h\n",
    "s_final=['no' '?' '?' '?' 'hieroglyphics']\n",
    "s_final,g_final = learn(concepts, target)\n",
    "\n",
    "print(\"\\nFinal Specific_h:\", s_final, sep=\"\\n\")\n",
    "\n",
    "print(\"Final General_h:\", g_final, sep=\"\\n\")"
   ]
  },
  {
   "cell_type": "code",
   "execution_count": null,
   "id": "b4337dde",
   "metadata": {},
   "outputs": [],
   "source": []
  }
 ],
 "metadata": {
  "kernelspec": {
   "display_name": "Python 3 (ipykernel)",
   "language": "python",
   "name": "python3"
  },
  "language_info": {
   "codemirror_mode": {
    "name": "ipython",
    "version": 3
   },
   "file_extension": ".py",
   "mimetype": "text/x-python",
   "name": "python",
   "nbconvert_exporter": "python",
   "pygments_lexer": "ipython3",
   "version": "3.9.12"
  },
  "papermill": {
   "default_parameters": {},
   "duration": 10.666049,
   "end_time": "2023-03-28T04:22:29.841714",
   "environment_variables": {},
   "exception": null,
   "input_path": "__notebook__.ipynb",
   "output_path": "__notebook__.ipynb",
   "parameters": {},
   "start_time": "2023-03-28T04:22:19.175665",
   "version": "2.4.0"
  }
 },
 "nbformat": 4,
 "nbformat_minor": 5
}
