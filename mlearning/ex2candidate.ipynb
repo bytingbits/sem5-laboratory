{
 "cells": [
  {
   "cell_type": "code",
   "execution_count": 1,
   "metadata": {
    "_cell_guid": "b1076dfc-b9ad-4769-8c92-a6c4dae69d19",
    "_uuid": "8f2839f25d086af736a60e9eeb907d3b93b6e0e5"
   },
   "outputs": [],
   "source": [
    "\n",
    "import numpy as np # linear algebra\n",
    "import pandas as pd # data processing, CSV file I/O (e.g. pd.read_csv)\n"
   ]
  },
  {
   "cell_type": "code",
   "execution_count": 2,
   "metadata": {},
   "outputs": [],
   "source": [
    "import random\n",
    "import csv"
   ]
  },
  {
   "cell_type": "code",
   "execution_count": 3,
   "metadata": {},
   "outputs": [],
   "source": [
    "def g_0(n):\n",
    "    return (\"?\",)*n\n",
    "\n",
    "def s_0(n):\n",
    "    return ('0',)*n"
   ]
  },
  {
   "cell_type": "code",
   "execution_count": 4,
   "metadata": {},
   "outputs": [],
   "source": [
    "def more_general(h1, h2):\n",
    "    more_general_parts = []\n",
    "    for x, y in zip(h1, h2):\n",
    "        mg = x == \"?\" or (x != \"0\" and (x == y or y == \"0\"))\n",
    "        more_general_parts.append(mg)\n",
    "    return all(more_general_parts)"
   ]
  },
  {
   "cell_type": "code",
   "execution_count": 5,
   "metadata": {},
   "outputs": [],
   "source": [
    "\n",
    "def fulfills(example, hypothesis):\n",
    "    return more_general(hypothesis, example)\n",
    "\n",
    "def min_generalizations(h, x):\n",
    "    h_new = list(h)\n",
    "    for i in range(len(h)):\n",
    "        if not fulfills(x[i:i+1], h[i:i+1]):\n",
    "            h_new[i] = '?' if h[i] != '0' else x[i]\n",
    "    return [tuple(h_new)]"
   ]
  },
  {
   "cell_type": "code",
   "execution_count": null,
   "metadata": {},
   "outputs": [],
   "source": []
  },
  {
   "cell_type": "code",
   "execution_count": 6,
   "metadata": {},
   "outputs": [],
   "source": [
    "def min_specializations(h, domains, x):\n",
    "    results = []\n",
    "    for i in range(len(h)):\n",
    "        if h[i] == \"?\":\n",
    "            for val in domains[i]:\n",
    "                if x[i] != val:\n",
    "                    h_new = h[:i] + (val,) + h[i+1:]\n",
    "                    results.append(h_new)\n",
    "        elif h[i] != \"0\":\n",
    "            h_new = h[:i] + ('0',) + h[i+1:]\n",
    "            results.append(h_new)\n",
    "    return results"
   ]
  },
  {
   "cell_type": "code",
   "execution_count": null,
   "metadata": {},
   "outputs": [],
   "source": []
  },
  {
   "cell_type": "code",
   "execution_count": 7,
   "metadata": {},
   "outputs": [],
   "source": [
    "with open('ex2candidate.csv')  as csvFile:\n",
    "        examples = [tuple(line) for line in csv.reader(csvFile)]"
   ]
  },
  {
   "cell_type": "code",
   "execution_count": 8,
   "metadata": {},
   "outputs": [
    {
     "data": {
      "text/plain": [
       "[['1', '2', '3', '4', '5'],\n",
       " ['many', 'some'],\n",
       " ['big', 'medium', 'small'],\n",
       " ['always', 'no'],\n",
       " ['affordable', 'expensive'],\n",
       " ['few', 'many', 'one'],\n",
       " ['no', 'yes']]"
      ]
     },
     "execution_count": 8,
     "metadata": {},
     "output_type": "execute_result"
    }
   ],
   "source": [
    "def get_domains(examples):\n",
    "    d = [set() for i in examples[0]]\n",
    "    for x in examples:\n",
    "        for i, xi in enumerate(x):\n",
    "            d[i].add(xi)\n",
    "    return [list(sorted(x)) for x in d]\n",
    "get_domains(examples)"
   ]
  },
  {
   "cell_type": "code",
   "execution_count": 9,
   "metadata": {},
   "outputs": [],
   "source": [
    "def candidate_elimination(examples):\n",
    "    domains = get_domains(examples)[:-1]\n",
    "    \n",
    "    G = set([g_0(len(domains))])\n",
    "    S = set([s_0(len(domains))])\n",
    "    i=0\n",
    "    print(\"\\n G[{0}]:\".format(i),G)\n",
    "    print(\"\\n S[{0}]:\".format(i),S)\n",
    "    for xcx in examples:\n",
    "        i=i+1\n",
    "        x, cx = xcx[:-1], xcx[-1]  # Splitting data into attributes and decisions\n",
    "        if cx=='Y': # x is positive example\n",
    "            G = {g for g in G if fulfills(x, g)}\n",
    "            S = generalize_S(x, G, S)\n",
    "        else: # x is negative example\n",
    "            S = {s for s in S if not fulfills(x, s)}\n",
    "            G = specialize_G(x, domains, G, S)\n",
    "        print(\"\\n G[{0}]:\".format(i),G)\n",
    "        print(\"\\n S[{0}]:\".format(i),S)\n",
    "    return"
   ]
  },
  {
   "cell_type": "code",
   "execution_count": 10,
   "metadata": {},
   "outputs": [],
   "source": [
    "def generalize_S(x, G, S):\n",
    "    S_prev = list(S)\n",
    "    for s in S_prev:\n",
    "        if s not in S:\n",
    "            continue\n",
    "        if not fulfills(x, s):\n",
    "            S.remove(s)\n",
    "            Splus = min_generalizations(s, x)\n",
    "            ## keep only generalizations that have a counterpart in G\n",
    "            S.update([h for h in Splus if any([more_general(g,h) \n",
    "                                               for g in G])])\n",
    "            ## remove hypotheses less specific than any other in S\n",
    "            S.difference_update([h for h in S if \n",
    "                                 any([more_general(h, h1) \n",
    "                                      for h1 in S if h != h1])])\n",
    "    return S"
   ]
  },
  {
   "cell_type": "code",
   "execution_count": 11,
   "metadata": {},
   "outputs": [],
   "source": [
    "def specialize_G(x, domains, G, S):\n",
    "    G_prev = list(G)\n",
    "    for g in G_prev:\n",
    "        if g not in G:\n",
    "            continue\n",
    "        if fulfills(x, g):\n",
    "            G.remove(g)\n",
    "            Gminus = min_specializations(g, domains, x)\n",
    "            ## keep only specializations that have a conuterpart in S\n",
    "            G.update([h for h in Gminus if any([more_general(h, s)\n",
    "                                                for s in S])])\n",
    "            ## remove hypotheses less general than any other in G\n",
    "            G.difference_update([h for h in G if \n",
    "                                 any([more_general(g1, h) \n",
    "                                      for g1 in G if h != g1])])\n",
    "    return G"
   ]
  },
  {
   "cell_type": "code",
   "execution_count": 12,
   "metadata": {},
   "outputs": [
    {
     "name": "stdout",
     "output_type": "stream",
     "text": [
      "\n",
      " G[0]: {('?', '?', '?', '?', '?', '?')}\n",
      "\n",
      " S[0]: {('0', '0', '0', '0', '0', '0')}\n",
      "\n",
      " G[1]: {('?', '?', '?', '?', '?', 'one'), ('5', '?', '?', '?', '?', '?'), ('2', '?', '?', '?', '?', '?'), ('?', '?', '?', 'always', '?', '?'), ('4', '?', '?', '?', '?', '?'), ('?', '?', 'big', '?', '?', '?'), ('3', '?', '?', '?', '?', '?'), ('?', 'many', '?', '?', '?', '?'), ('?', '?', 'medium', '?', '?', '?'), ('?', '?', '?', '?', '?', 'few'), ('?', '?', '?', '?', 'expensive', '?')}\n",
      "\n",
      " S[1]: {('0', '0', '0', '0', '0', '0')}\n",
      "\n",
      " G[2]: {('1', '?', '?', '?', '?', 'one'), ('2', '?', '?', '?', 'affordable', '?'), ('?', '?', 'big', '?', '?', 'many'), ('1', 'many', '?', '?', '?', '?'), ('1', '?', '?', '?', 'expensive', '?'), ('?', '?', '?', '?', 'expensive', 'many'), ('?', '?', 'big', '?', 'affordable', '?'), ('?', 'many', 'small', '?', '?', '?'), ('5', '?', '?', '?', '?', '?'), ('?', '?', '?', '?', 'affordable', 'one'), ('?', 'some', 'big', '?', '?', '?'), ('2', 'some', '?', '?', '?', '?'), ('?', '?', '?', 'always', '?', '?'), ('?', '?', 'small', '?', 'expensive', '?'), ('?', '?', 'small', '?', '?', 'one'), ('2', '?', 'small', '?', '?', '?'), ('?', '?', '?', '?', '?', 'few'), ('2', '?', '?', '?', '?', 'many'), ('?', 'some', '?', '?', 'expensive', '?'), ('?', 'some', '?', '?', '?', 'one'), ('1', '?', 'big', '?', '?', '?'), ('?', 'many', '?', '?', '?', 'many'), ('4', '?', '?', '?', '?', '?'), ('3', '?', '?', '?', '?', '?'), ('?', '?', 'medium', '?', '?', '?'), ('?', 'many', '?', '?', 'affordable', '?')}\n",
      "\n",
      " S[2]: {('0', '0', '0', '0', '0', '0')}\n",
      "\n",
      " G[3]: {('1', '?', '?', '?', '?', 'one'), ('2', '?', '?', '?', 'affordable', '?'), ('?', '?', 'big', '?', '?', 'many'), ('2', '?', '?', '?', '?', 'few'), ('?', 'many', '?', '?', '?', 'few'), ('1', 'many', '?', '?', '?', '?'), ('1', '?', '?', '?', 'expensive', '?'), ('?', '?', 'small', 'always', '?', '?'), ('?', 'some', 'big', 'no', '?', '?'), ('?', '?', '?', '?', 'expensive', 'many'), ('?', '?', '?', 'always', '?', 'one'), ('?', '?', 'big', '?', 'affordable', '?'), ('?', 'many', 'small', '?', '?', '?'), ('1', '?', '?', '?', '?', 'few'), ('?', '?', '?', '?', 'affordable', 'few'), ('5', '?', '?', '?', '?', '?'), ('?', '?', '?', '?', 'affordable', 'one'), ('2', 'some', '?', '?', '?', '?'), ('3', '?', '?', '?', '?', 'many'), ('?', '?', '?', 'no', '?', 'few'), ('3', '?', '?', '?', 'affordable', '?'), ('?', '?', 'small', '?', '?', 'few'), ('?', '?', 'small', '?', 'expensive', '?'), ('?', '?', 'small', '?', '?', 'one'), ('3', '?', 'small', '?', '?', '?'), ('?', '?', '?', 'always', 'affordable', '?'), ('2', '?', 'small', '?', '?', '?'), ('1', '?', '?', 'always', '?', '?'), ('3', '?', '?', 'no', '?', '?'), ('3', 'many', '?', '?', '?', '?'), ('3', '?', '?', '?', '?', 'one'), ('2', '?', '?', 'always', '?', '?'), ('?', 'some', '?', 'no', 'expensive', '?'), ('2', '?', '?', '?', '?', 'many'), ('?', 'some', '?', '?', '?', 'one'), ('?', '?', '?', 'always', '?', 'many'), ('?', 'many', '?', 'always', '?', '?'), ('1', '?', 'big', '?', '?', '?'), ('?', 'many', '?', '?', '?', 'many'), ('4', '?', '?', '?', '?', '?'), ('?', '?', 'medium', '?', '?', '?'), ('?', 'many', '?', '?', 'affordable', '?')}\n",
      "\n",
      " S[3]: {('0', '0', '0', '0', '0', '0')}\n",
      "\n",
      " G[4]: {('1', '?', '?', '?', '?', 'one'), ('2', '?', '?', '?', 'affordable', '?'), ('1', 'many', '?', '?', '?', '?'), ('1', '?', '?', '?', 'expensive', '?'), ('?', '?', 'small', 'always', '?', '?'), ('?', 'some', 'big', 'no', '?', '?'), ('?', '?', 'big', '?', 'affordable', '?'), ('?', 'many', 'small', '?', '?', '?'), ('4', '?', 'small', '?', '?', '?'), ('?', '?', '?', '?', 'affordable', 'few'), ('5', '?', '?', '?', '?', '?'), ('2', 'some', '?', '?', '?', '?'), ('2', '?', 'medium', '?', '?', '?'), ('?', '?', '?', 'no', '?', 'few'), ('3', '?', '?', '?', 'affordable', '?'), ('?', '?', 'small', '?', '?', 'one'), ('4', '?', '?', '?', 'affordable', '?'), ('2', '?', 'small', '?', '?', '?'), ('1', '?', '?', 'always', '?', '?'), ('3', '?', '?', '?', '?', 'one'), ('3', '?', 'medium', '?', '?', '?'), ('?', '?', '?', 'always', '?', 'many'), ('?', 'many', '?', 'always', '?', '?'), ('?', '?', '?', 'always', 'affordable', '?'), ('?', 'many', '?', '?', 'affordable', '?'), ('?', '?', 'big', '?', '?', 'many'), ('2', '?', '?', '?', '?', 'few'), ('4', '?', 'big', '?', '?', '?'), ('?', 'many', '?', '?', '?', 'few'), ('?', '?', '?', 'always', '?', 'one'), ('4', 'some', '?', '?', '?', '?'), ('?', '?', '?', '?', 'affordable', 'one'), ('?', 'some', '?', '?', 'expensive', 'many'), ('3', '?', '?', '?', '?', 'many'), ('4', '?', '?', 'always', '?', '?'), ('?', '?', 'small', '?', '?', 'few'), ('?', '?', 'small', '?', 'expensive', '?'), ('?', '?', 'medium', '?', 'affordable', '?'), ('3', '?', 'small', '?', '?', '?'), ('4', '?', '?', '?', '?', 'few'), ('3', '?', '?', 'no', '?', '?'), ('?', '?', 'medium', '?', '?', 'few'), ('3', 'many', '?', '?', '?', '?'), ('1', '?', 'medium', '?', '?', '?'), ('4', '?', '?', '?', '?', 'one'), ('?', 'some', 'medium', '?', '?', '?'), ('?', '?', 'medium', '?', '?', 'one'), ('2', '?', '?', 'always', '?', '?'), ('?', 'some', '?', 'no', 'expensive', '?'), ('2', '?', '?', '?', '?', 'many'), ('?', 'some', '?', '?', '?', 'one'), ('1', '?', 'big', '?', '?', '?'), ('?', '?', 'medium', 'always', '?', '?'), ('1', '?', '?', '?', '?', 'few')}\n",
      "\n",
      " S[4]: {('0', '0', '0', '0', '0', '0')}\n",
      "\n",
      " G[5]: {('1', '?', '?', '?', '?', 'one'), ('5', '?', '?', '?', 'expensive', '?'), ('2', '?', '?', '?', 'affordable', '?'), ('5', '?', '?', '?', '?', 'few'), ('1', 'many', '?', '?', '?', '?'), ('1', '?', '?', '?', 'expensive', '?'), ('?', '?', 'small', 'always', '?', '?'), ('?', 'some', 'big', 'no', '?', '?'), ('?', '?', 'big', '?', 'affordable', '?'), ('4', '?', 'small', '?', '?', '?'), ('?', '?', '?', '?', 'affordable', 'few'), ('2', 'some', '?', '?', '?', '?'), ('2', '?', 'medium', '?', '?', '?'), ('?', '?', '?', 'no', '?', 'few'), ('3', '?', '?', '?', 'affordable', '?'), ('?', '?', 'small', '?', '?', 'one'), ('4', '?', '?', '?', 'affordable', '?'), ('2', '?', 'small', '?', '?', '?'), ('1', '?', '?', 'always', '?', '?'), ('5', '?', '?', 'always', '?', '?'), ('3', '?', '?', '?', '?', 'one'), ('3', '?', 'medium', '?', '?', '?'), ('?', '?', '?', 'always', '?', 'many'), ('?', 'many', '?', 'always', '?', '?'), ('?', '?', '?', 'always', 'affordable', '?'), ('5', '?', '?', '?', '?', 'one'), ('?', '?', 'big', '?', '?', 'many'), ('2', '?', '?', '?', '?', 'few'), ('4', '?', 'big', '?', '?', '?'), ('?', 'many', '?', '?', '?', 'few'), ('?', '?', '?', 'always', '?', 'one'), ('4', 'some', '?', '?', '?', '?'), ('?', '?', '?', '?', 'affordable', 'one'), ('?', 'some', '?', '?', 'expensive', 'many'), ('3', '?', '?', '?', '?', 'many'), ('4', '?', '?', 'always', '?', '?'), ('?', '?', 'small', '?', '?', 'few'), ('?', '?', 'small', '?', 'expensive', '?'), ('?', '?', 'medium', '?', 'affordable', '?'), ('3', '?', 'small', '?', '?', '?'), ('5', '?', 'big', '?', '?', '?'), ('5', 'some', '?', '?', '?', '?'), ('4', '?', '?', '?', '?', 'few'), ('3', '?', '?', 'no', '?', '?'), ('?', '?', 'medium', '?', '?', 'few'), ('5', '?', 'medium', '?', '?', '?'), ('3', 'many', '?', '?', '?', '?'), ('1', '?', 'medium', '?', '?', '?'), ('4', '?', '?', '?', '?', 'one'), ('?', 'some', 'medium', '?', '?', '?'), ('?', '?', 'medium', '?', '?', 'one'), ('2', '?', '?', 'always', '?', '?'), ('?', 'some', '?', 'no', 'expensive', '?'), ('2', '?', '?', '?', '?', 'many'), ('?', 'some', '?', '?', '?', 'one'), ('1', '?', 'big', '?', '?', '?'), ('?', '?', 'medium', 'always', '?', '?'), ('1', '?', '?', '?', '?', 'few')}\n",
      "\n",
      " S[5]: {('0', '0', '0', '0', '0', '0')}\n"
     ]
    }
   ],
   "source": [
    "candidate_elimination(examples)"
   ]
  },
  {
   "cell_type": "code",
   "execution_count": null,
   "metadata": {},
   "outputs": [],
   "source": []
  }
 ],
 "metadata": {
  "kernelspec": {
   "display_name": "Python 3 (ipykernel)",
   "language": "python",
   "name": "python3"
  },
  "language_info": {
   "codemirror_mode": {
    "name": "ipython",
    "version": 3
   },
   "file_extension": ".py",
   "mimetype": "text/x-python",
   "name": "python",
   "nbconvert_exporter": "python",
   "pygments_lexer": "ipython3",
   "version": "3.9.12"
  }
 },
 "nbformat": 4,
 "nbformat_minor": 4
}
